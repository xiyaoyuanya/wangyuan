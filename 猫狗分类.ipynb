{
 "cells": [
  {
   "cell_type": "code",
   "execution_count": null,
   "metadata": {},
   "outputs": [],
   "source": [
    "import numpy as np\n",
    "import matplotlib.pyplot as plt\n",
    "import torch\n",
    "import torch.nn as nn\n",
    "import torch.optim as optim\n",
    "from torch.optim import lr_scheduler\n",
    "from torchvision import datasets, models, transforms\n",
    "import os\n",
    "import time\n",
    "import copy\n",
    "from PIL import Image"
   ]
  },
  {
   "cell_type": "code",
   "execution_count": 1,
   "metadata": {},
   "outputs": [
    {
     "ename": "NameError",
     "evalue": "name 'Image' is not defined",
     "output_type": "error",
     "traceback": [
      "\u001b[31m---------------------------------------------------------------------------\u001b[39m",
      "\u001b[31mNameError\u001b[39m                                 Traceback (most recent call last)",
      "\u001b[36mCell\u001b[39m\u001b[36m \u001b[39m\u001b[32mIn[1]\u001b[39m\u001b[32m, line 5\u001b[39m\n\u001b[32m      3\u001b[39m img_path = \u001b[33m\"\u001b[39m\u001b[33mhttps://github.com/chenshunpeng/Cat-dog-recognition-based-on-CNN\u001b[39m\u001b[33m\"\u001b[39m\n\u001b[32m      4\u001b[39m \u001b[38;5;66;03m# 使用PIL加载图像\u001b[39;00m\n\u001b[32m----> \u001b[39m\u001b[32m5\u001b[39m image = \u001b[43mImage\u001b[49m.open(img_path)\n\u001b[32m      7\u001b[39m \u001b[38;5;66;03m#显示图片\u001b[39;00m\n\u001b[32m      8\u001b[39m \u001b[38;5;28;01mdef\u001b[39;00m\u001b[38;5;250m \u001b[39m\u001b[34mimshow\u001b[39m(inp,title=\u001b[38;5;28;01mNone\u001b[39;00m):\n",
      "\u001b[31mNameError\u001b[39m: name 'Image' is not defined"
     ]
    }
   ],
   "source": [
    "url = \"https://github.com/chenshunpeng/Cat-dog-recognition-based-on-CNN\"\n",
    "#下载数据集\n",
    "img_path = \"https://github.com/chenshunpeng/Cat-dog-recognition-based-on-CNN\"\n",
    "# 使用PIL加载图像\n",
    "image = Image.open(img_path)\n",
    "\n",
    "#显示图片\n",
    "def imshow(inp,title=None):\n",
    "    inp = inp.numpy().transpose((1,2,0))\n",
    "    mean = np.array([0.485,0.456,0.406])\n",
    "    std = np.array([0.229,0.224,0.225])\n",
    "    inp = std * inp + mean\n",
    "    inp = np.clip(inp,0,1)\n",
    "    plt.imshow(inp)"
   ]
  }
 ],
 "metadata": {
  "kernelspec": {
   "display_name": "boshidun",
   "language": "python",
   "name": "python3"
  },
  "language_info": {
   "codemirror_mode": {
    "name": "ipython",
    "version": 3
   },
   "file_extension": ".py",
   "mimetype": "text/x-python",
   "name": "python",
   "nbconvert_exporter": "python",
   "pygments_lexer": "ipython3",
   "version": "3.12.9"
  }
 },
 "nbformat": 4,
 "nbformat_minor": 2
}
